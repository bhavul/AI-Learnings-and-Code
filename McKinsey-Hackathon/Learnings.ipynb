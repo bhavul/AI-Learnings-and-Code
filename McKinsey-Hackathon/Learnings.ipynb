{
 "cells": [
  {
   "cell_type": "markdown",
   "metadata": {},
   "source": [
    "# Learnings"
   ]
  },
  {
   "cell_type": "markdown",
   "metadata": {},
   "source": [
    "- Standard classifier algorithms like Decision Tree and Logistic Regression have a bias towards classes which have number of instances. They tend to only predict the majority class data. The features of the minority class are treated as noise and are often ignored. Thus, there is a high probability of misclassification of the minority class as compared to the majority class.\n",
    "- Great video about AUC-ROC metric : https://www.youtube.com/watch?v=Fn1t4rEIf_8\n",
    "- Learnt that one of the first things to do is check is if data given to you is skewed. Because that does happen in real life.\n",
    "- How to handle imbalanced data - https://www.analyticsvidhya.com/blog/2017/03/imbalanced-classification-problem/\n",
    "- Found imbalance-learn library for python which implements most of undersampling and oversampling approaches written above - http://contrib.scikit-learn.org/imbalanced-learn/stable/generated/imblearn.combine.SMOTEENN.html#imblearn.combine.SMOTEENN"
   ]
  },
  {
   "cell_type": "code",
   "execution_count": null,
   "metadata": {},
   "outputs": [],
   "source": []
  }
 ],
 "metadata": {
  "kernelspec": {
   "display_name": "Python 3",
   "language": "python",
   "name": "python3"
  },
  "language_info": {
   "codemirror_mode": {
    "name": "ipython",
    "version": 3
   },
   "file_extension": ".py",
   "mimetype": "text/x-python",
   "name": "python",
   "nbconvert_exporter": "python",
   "pygments_lexer": "ipython3",
   "version": "3.5.2"
  }
 },
 "nbformat": 4,
 "nbformat_minor": 2
}
