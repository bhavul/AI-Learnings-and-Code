{
 "cells": [
  {
   "cell_type": "code",
   "execution_count": 1,
   "metadata": {
    "collapsed": true
   },
   "outputs": [],
   "source": [
    "import numpy as np"
   ]
  },
  {
   "cell_type": "markdown",
   "metadata": {},
   "source": [
    "So, we're gonna have a look at intuition behind understanding how numpy formats multidimensional data in np.arrays. "
   ]
  },
  {
   "cell_type": "code",
   "execution_count": 2,
   "metadata": {},
   "outputs": [
    {
     "data": {
      "text/plain": [
       "360"
      ]
     },
     "execution_count": 2,
     "metadata": {},
     "output_type": "execute_result"
    }
   ],
   "source": [
    "3*4*5*6"
   ]
  },
  {
   "cell_type": "code",
   "execution_count": 4,
   "metadata": {},
   "outputs": [
    {
     "data": {
      "text/plain": [
       "array([  0,   1,   2,   3,   4,   5,   6,   7,   8,   9,  10,  11,  12,\n",
       "        13,  14,  15,  16,  17,  18,  19,  20,  21,  22,  23,  24,  25,\n",
       "        26,  27,  28,  29,  30,  31,  32,  33,  34,  35,  36,  37,  38,\n",
       "        39,  40,  41,  42,  43,  44,  45,  46,  47,  48,  49,  50,  51,\n",
       "        52,  53,  54,  55,  56,  57,  58,  59,  60,  61,  62,  63,  64,\n",
       "        65,  66,  67,  68,  69,  70,  71,  72,  73,  74,  75,  76,  77,\n",
       "        78,  79,  80,  81,  82,  83,  84,  85,  86,  87,  88,  89,  90,\n",
       "        91,  92,  93,  94,  95,  96,  97,  98,  99, 100, 101, 102, 103,\n",
       "       104, 105, 106, 107, 108, 109, 110, 111, 112, 113, 114, 115, 116,\n",
       "       117, 118, 119, 120, 121, 122, 123, 124, 125, 126, 127, 128, 129,\n",
       "       130, 131, 132, 133, 134, 135, 136, 137, 138, 139, 140, 141, 142,\n",
       "       143, 144, 145, 146, 147, 148, 149, 150, 151, 152, 153, 154, 155,\n",
       "       156, 157, 158, 159, 160, 161, 162, 163, 164, 165, 166, 167, 168,\n",
       "       169, 170, 171, 172, 173, 174, 175, 176, 177, 178, 179, 180, 181,\n",
       "       182, 183, 184, 185, 186, 187, 188, 189, 190, 191, 192, 193, 194,\n",
       "       195, 196, 197, 198, 199, 200, 201, 202, 203, 204, 205, 206, 207,\n",
       "       208, 209, 210, 211, 212, 213, 214, 215, 216, 217, 218, 219, 220,\n",
       "       221, 222, 223, 224, 225, 226, 227, 228, 229, 230, 231, 232, 233,\n",
       "       234, 235, 236, 237, 238, 239, 240, 241, 242, 243, 244, 245, 246,\n",
       "       247, 248, 249, 250, 251, 252, 253, 254, 255, 256, 257, 258, 259,\n",
       "       260, 261, 262, 263, 264, 265, 266, 267, 268, 269, 270, 271, 272,\n",
       "       273, 274, 275, 276, 277, 278, 279, 280, 281, 282, 283, 284, 285,\n",
       "       286, 287, 288, 289, 290, 291, 292, 293, 294, 295, 296, 297, 298,\n",
       "       299, 300, 301, 302, 303, 304, 305, 306, 307, 308, 309, 310, 311,\n",
       "       312, 313, 314, 315, 316, 317, 318, 319, 320, 321, 322, 323, 324,\n",
       "       325, 326, 327, 328, 329, 330, 331, 332, 333, 334, 335, 336, 337,\n",
       "       338, 339, 340, 341, 342, 343, 344, 345, 346, 347, 348, 349, 350,\n",
       "       351, 352, 353, 354, 355, 356, 357, 358, 359])"
      ]
     },
     "execution_count": 4,
     "metadata": {},
     "output_type": "execute_result"
    }
   ],
   "source": [
    "simple1dArray = np.arange(3*4*5*6)\n",
    "simple1dArray"
   ]
  },
  {
   "cell_type": "code",
   "execution_count": 5,
   "metadata": {},
   "outputs": [
    {
     "data": {
      "text/plain": [
       "array([[[[  0,   1,   2,   3,   4,   5],\n",
       "         [  6,   7,   8,   9,  10,  11],\n",
       "         [ 12,  13,  14,  15,  16,  17],\n",
       "         [ 18,  19,  20,  21,  22,  23],\n",
       "         [ 24,  25,  26,  27,  28,  29]],\n",
       "\n",
       "        [[ 30,  31,  32,  33,  34,  35],\n",
       "         [ 36,  37,  38,  39,  40,  41],\n",
       "         [ 42,  43,  44,  45,  46,  47],\n",
       "         [ 48,  49,  50,  51,  52,  53],\n",
       "         [ 54,  55,  56,  57,  58,  59]],\n",
       "\n",
       "        [[ 60,  61,  62,  63,  64,  65],\n",
       "         [ 66,  67,  68,  69,  70,  71],\n",
       "         [ 72,  73,  74,  75,  76,  77],\n",
       "         [ 78,  79,  80,  81,  82,  83],\n",
       "         [ 84,  85,  86,  87,  88,  89]],\n",
       "\n",
       "        [[ 90,  91,  92,  93,  94,  95],\n",
       "         [ 96,  97,  98,  99, 100, 101],\n",
       "         [102, 103, 104, 105, 106, 107],\n",
       "         [108, 109, 110, 111, 112, 113],\n",
       "         [114, 115, 116, 117, 118, 119]]],\n",
       "\n",
       "\n",
       "       [[[120, 121, 122, 123, 124, 125],\n",
       "         [126, 127, 128, 129, 130, 131],\n",
       "         [132, 133, 134, 135, 136, 137],\n",
       "         [138, 139, 140, 141, 142, 143],\n",
       "         [144, 145, 146, 147, 148, 149]],\n",
       "\n",
       "        [[150, 151, 152, 153, 154, 155],\n",
       "         [156, 157, 158, 159, 160, 161],\n",
       "         [162, 163, 164, 165, 166, 167],\n",
       "         [168, 169, 170, 171, 172, 173],\n",
       "         [174, 175, 176, 177, 178, 179]],\n",
       "\n",
       "        [[180, 181, 182, 183, 184, 185],\n",
       "         [186, 187, 188, 189, 190, 191],\n",
       "         [192, 193, 194, 195, 196, 197],\n",
       "         [198, 199, 200, 201, 202, 203],\n",
       "         [204, 205, 206, 207, 208, 209]],\n",
       "\n",
       "        [[210, 211, 212, 213, 214, 215],\n",
       "         [216, 217, 218, 219, 220, 221],\n",
       "         [222, 223, 224, 225, 226, 227],\n",
       "         [228, 229, 230, 231, 232, 233],\n",
       "         [234, 235, 236, 237, 238, 239]]],\n",
       "\n",
       "\n",
       "       [[[240, 241, 242, 243, 244, 245],\n",
       "         [246, 247, 248, 249, 250, 251],\n",
       "         [252, 253, 254, 255, 256, 257],\n",
       "         [258, 259, 260, 261, 262, 263],\n",
       "         [264, 265, 266, 267, 268, 269]],\n",
       "\n",
       "        [[270, 271, 272, 273, 274, 275],\n",
       "         [276, 277, 278, 279, 280, 281],\n",
       "         [282, 283, 284, 285, 286, 287],\n",
       "         [288, 289, 290, 291, 292, 293],\n",
       "         [294, 295, 296, 297, 298, 299]],\n",
       "\n",
       "        [[300, 301, 302, 303, 304, 305],\n",
       "         [306, 307, 308, 309, 310, 311],\n",
       "         [312, 313, 314, 315, 316, 317],\n",
       "         [318, 319, 320, 321, 322, 323],\n",
       "         [324, 325, 326, 327, 328, 329]],\n",
       "\n",
       "        [[330, 331, 332, 333, 334, 335],\n",
       "         [336, 337, 338, 339, 340, 341],\n",
       "         [342, 343, 344, 345, 346, 347],\n",
       "         [348, 349, 350, 351, 352, 353],\n",
       "         [354, 355, 356, 357, 358, 359]]]])"
      ]
     },
     "execution_count": 5,
     "metadata": {},
     "output_type": "execute_result"
    }
   ],
   "source": [
    "simple4darray = simple1dArray.reshape(3,4,5,6)\n",
    "simple4darray"
   ]
  },
  {
   "cell_type": "markdown",
   "metadata": {},
   "source": [
    "Now, forget the output for a minute. Think of imaginging a 4D space. Well, you know how 3D space works, right? Just imagine an array of 3D spaces. Like, imagine parallel universes. \n",
    "\n",
    "Now, if you look at the above output, you'll see lots of 2D arrays at first. Like, one of them is : \n",
    "\n",
    "```\n",
    "        [[330, 331, 332, 333, 334, 335],\n",
    "         [336, 337, 338, 339, 340, 341],\n",
    "         [342, 343, 344, 345, 346, 347],\n",
    "         [348, 349, 350, 351, 352, 353],\n",
    "         [354, 355, 356, 357, 358, 359]]\n",
    "```\n",
    "\n",
    "This is a `5 x 6` array. \n",
    "There are 3 groups above...and each group in that has 4 such 2D arrays. Which makes it of shape `3 x 4 x 5 x 6`"
   ]
  },
  {
   "cell_type": "code",
   "execution_count": 6,
   "metadata": {},
   "outputs": [
    {
     "data": {
      "text/plain": [
       "array([359, 358, 357, 356, 355, 354, 353, 352, 351, 350, 349, 348, 347,\n",
       "       346, 345, 344, 343, 342, 341, 340, 339, 338, 337, 336, 335, 334,\n",
       "       333, 332, 331, 330, 329, 328, 327, 326, 325, 324, 323, 322, 321,\n",
       "       320, 319, 318, 317, 316, 315, 314, 313, 312, 311, 310, 309, 308,\n",
       "       307, 306, 305, 304, 303, 302, 301, 300, 299, 298, 297, 296, 295,\n",
       "       294, 293, 292, 291, 290, 289, 288, 287, 286, 285, 284, 283, 282,\n",
       "       281, 280, 279, 278, 277, 276, 275, 274, 273, 272, 271, 270, 269,\n",
       "       268, 267, 266, 265, 264, 263, 262, 261, 260, 259, 258, 257, 256,\n",
       "       255, 254, 253, 252, 251, 250, 249, 248, 247, 246, 245, 244, 243,\n",
       "       242, 241, 240, 239, 238, 237, 236, 235, 234, 233, 232, 231, 230,\n",
       "       229, 228, 227, 226, 225, 224, 223, 222, 221, 220, 219, 218, 217,\n",
       "       216, 215, 214, 213, 212, 211, 210, 209, 208, 207, 206, 205, 204,\n",
       "       203, 202, 201, 200, 199, 198, 197, 196, 195, 194, 193, 192, 191,\n",
       "       190, 189, 188, 187, 186, 185, 184, 183, 182, 181, 180, 179, 178,\n",
       "       177, 176, 175, 174, 173, 172, 171, 170, 169, 168, 167, 166, 165,\n",
       "       164, 163, 162, 161, 160, 159, 158, 157, 156, 155, 154, 153, 152,\n",
       "       151, 150, 149, 148, 147, 146, 145, 144, 143, 142, 141, 140, 139,\n",
       "       138, 137, 136, 135, 134, 133, 132, 131, 130, 129, 128, 127, 126,\n",
       "       125, 124, 123, 122, 121, 120, 119, 118, 117, 116, 115, 114, 113,\n",
       "       112, 111, 110, 109, 108, 107, 106, 105, 104, 103, 102, 101, 100,\n",
       "        99,  98,  97,  96,  95,  94,  93,  92,  91,  90,  89,  88,  87,\n",
       "        86,  85,  84,  83,  82,  81,  80,  79,  78,  77,  76,  75,  74,\n",
       "        73,  72,  71,  70,  69,  68,  67,  66,  65,  64,  63,  62,  61,\n",
       "        60,  59,  58,  57,  56,  55,  54,  53,  52,  51,  50,  49,  48,\n",
       "        47,  46,  45,  44,  43,  42,  41,  40,  39,  38,  37,  36,  35,\n",
       "        34,  33,  32,  31,  30,  29,  28,  27,  26,  25,  24,  23,  22,\n",
       "        21,  20,  19,  18,  17,  16,  15,  14,  13,  12,  11,  10,   9,\n",
       "         8,   7,   6,   5,   4,   3,   2,   1,   0])"
      ]
     },
     "execution_count": 6,
     "metadata": {},
     "output_type": "execute_result"
    }
   ],
   "source": [
    "# Just [:-1] gives you all elements except the last one. Like, an array without element 359 in this case. [::-1] reverses array\n",
    "another1dArray = np.arange(3*4*5*6)[::-1]\n",
    "another1dArray"
   ]
  },
  {
   "cell_type": "code",
   "execution_count": 8,
   "metadata": {},
   "outputs": [
    {
     "data": {
      "text/plain": [
       "array([[[[359, 358, 357],\n",
       "         [356, 355, 354],\n",
       "         [353, 352, 351],\n",
       "         [350, 349, 348]],\n",
       "\n",
       "        [[347, 346, 345],\n",
       "         [344, 343, 342],\n",
       "         [341, 340, 339],\n",
       "         [338, 337, 336]],\n",
       "\n",
       "        [[335, 334, 333],\n",
       "         [332, 331, 330],\n",
       "         [329, 328, 327],\n",
       "         [326, 325, 324]],\n",
       "\n",
       "        [[323, 322, 321],\n",
       "         [320, 319, 318],\n",
       "         [317, 316, 315],\n",
       "         [314, 313, 312]],\n",
       "\n",
       "        [[311, 310, 309],\n",
       "         [308, 307, 306],\n",
       "         [305, 304, 303],\n",
       "         [302, 301, 300]]],\n",
       "\n",
       "\n",
       "       [[[299, 298, 297],\n",
       "         [296, 295, 294],\n",
       "         [293, 292, 291],\n",
       "         [290, 289, 288]],\n",
       "\n",
       "        [[287, 286, 285],\n",
       "         [284, 283, 282],\n",
       "         [281, 280, 279],\n",
       "         [278, 277, 276]],\n",
       "\n",
       "        [[275, 274, 273],\n",
       "         [272, 271, 270],\n",
       "         [269, 268, 267],\n",
       "         [266, 265, 264]],\n",
       "\n",
       "        [[263, 262, 261],\n",
       "         [260, 259, 258],\n",
       "         [257, 256, 255],\n",
       "         [254, 253, 252]],\n",
       "\n",
       "        [[251, 250, 249],\n",
       "         [248, 247, 246],\n",
       "         [245, 244, 243],\n",
       "         [242, 241, 240]]],\n",
       "\n",
       "\n",
       "       [[[239, 238, 237],\n",
       "         [236, 235, 234],\n",
       "         [233, 232, 231],\n",
       "         [230, 229, 228]],\n",
       "\n",
       "        [[227, 226, 225],\n",
       "         [224, 223, 222],\n",
       "         [221, 220, 219],\n",
       "         [218, 217, 216]],\n",
       "\n",
       "        [[215, 214, 213],\n",
       "         [212, 211, 210],\n",
       "         [209, 208, 207],\n",
       "         [206, 205, 204]],\n",
       "\n",
       "        [[203, 202, 201],\n",
       "         [200, 199, 198],\n",
       "         [197, 196, 195],\n",
       "         [194, 193, 192]],\n",
       "\n",
       "        [[191, 190, 189],\n",
       "         [188, 187, 186],\n",
       "         [185, 184, 183],\n",
       "         [182, 181, 180]]],\n",
       "\n",
       "\n",
       "       [[[179, 178, 177],\n",
       "         [176, 175, 174],\n",
       "         [173, 172, 171],\n",
       "         [170, 169, 168]],\n",
       "\n",
       "        [[167, 166, 165],\n",
       "         [164, 163, 162],\n",
       "         [161, 160, 159],\n",
       "         [158, 157, 156]],\n",
       "\n",
       "        [[155, 154, 153],\n",
       "         [152, 151, 150],\n",
       "         [149, 148, 147],\n",
       "         [146, 145, 144]],\n",
       "\n",
       "        [[143, 142, 141],\n",
       "         [140, 139, 138],\n",
       "         [137, 136, 135],\n",
       "         [134, 133, 132]],\n",
       "\n",
       "        [[131, 130, 129],\n",
       "         [128, 127, 126],\n",
       "         [125, 124, 123],\n",
       "         [122, 121, 120]]],\n",
       "\n",
       "\n",
       "       [[[119, 118, 117],\n",
       "         [116, 115, 114],\n",
       "         [113, 112, 111],\n",
       "         [110, 109, 108]],\n",
       "\n",
       "        [[107, 106, 105],\n",
       "         [104, 103, 102],\n",
       "         [101, 100,  99],\n",
       "         [ 98,  97,  96]],\n",
       "\n",
       "        [[ 95,  94,  93],\n",
       "         [ 92,  91,  90],\n",
       "         [ 89,  88,  87],\n",
       "         [ 86,  85,  84]],\n",
       "\n",
       "        [[ 83,  82,  81],\n",
       "         [ 80,  79,  78],\n",
       "         [ 77,  76,  75],\n",
       "         [ 74,  73,  72]],\n",
       "\n",
       "        [[ 71,  70,  69],\n",
       "         [ 68,  67,  66],\n",
       "         [ 65,  64,  63],\n",
       "         [ 62,  61,  60]]],\n",
       "\n",
       "\n",
       "       [[[ 59,  58,  57],\n",
       "         [ 56,  55,  54],\n",
       "         [ 53,  52,  51],\n",
       "         [ 50,  49,  48]],\n",
       "\n",
       "        [[ 47,  46,  45],\n",
       "         [ 44,  43,  42],\n",
       "         [ 41,  40,  39],\n",
       "         [ 38,  37,  36]],\n",
       "\n",
       "        [[ 35,  34,  33],\n",
       "         [ 32,  31,  30],\n",
       "         [ 29,  28,  27],\n",
       "         [ 26,  25,  24]],\n",
       "\n",
       "        [[ 23,  22,  21],\n",
       "         [ 20,  19,  18],\n",
       "         [ 17,  16,  15],\n",
       "         [ 14,  13,  12]],\n",
       "\n",
       "        [[ 11,  10,   9],\n",
       "         [  8,   7,   6],\n",
       "         [  5,   4,   3],\n",
       "         [  2,   1,   0]]]])"
      ]
     },
     "execution_count": 8,
     "metadata": {},
     "output_type": "execute_result"
    }
   ],
   "source": [
    "another4dArray = another1dArray.reshape(6,5,4,3)\n",
    "another4dArray"
   ]
  },
  {
   "cell_type": "markdown",
   "metadata": {},
   "source": [
    "Now, we can observe...there are 2d arrays of size `4 x 3`. An array of 5 such 2d arrays in each group. And a total of 6 such groups. "
   ]
  },
  {
   "cell_type": "markdown",
   "metadata": {},
   "source": [
    "### Dot Product\n",
    "\n",
    "Now, for 1d arrays, dot product is nothing but multiplication. Let me give you an example"
   ]
  },
  {
   "cell_type": "code",
   "execution_count": 14,
   "metadata": {},
   "outputs": [
    {
     "ename": "ValueError",
     "evalue": "shapes (3,) and (2,) not aligned: 3 (dim 0) != 2 (dim 0)",
     "output_type": "error",
     "traceback": [
      "\u001b[0;31m---------------------------------------------------------------------------\u001b[0m",
      "\u001b[0;31mValueError\u001b[0m                                Traceback (most recent call last)",
      "\u001b[0;32m<ipython-input-14-996a46a169f9>\u001b[0m in \u001b[0;36m<module>\u001b[0;34m()\u001b[0m\n\u001b[1;32m      1\u001b[0m \u001b[0ma\u001b[0m \u001b[0;34m=\u001b[0m \u001b[0mnp\u001b[0m\u001b[0;34m.\u001b[0m\u001b[0marray\u001b[0m\u001b[0;34m(\u001b[0m\u001b[0;34m[\u001b[0m\u001b[0;36m1\u001b[0m\u001b[0;34m,\u001b[0m\u001b[0;36m2\u001b[0m\u001b[0;34m,\u001b[0m\u001b[0;36m3\u001b[0m\u001b[0;34m]\u001b[0m\u001b[0;34m)\u001b[0m\u001b[0;34m\u001b[0m\u001b[0m\n\u001b[1;32m      2\u001b[0m \u001b[0mb\u001b[0m \u001b[0;34m=\u001b[0m \u001b[0mnp\u001b[0m\u001b[0;34m.\u001b[0m\u001b[0marray\u001b[0m\u001b[0;34m(\u001b[0m\u001b[0;34m[\u001b[0m\u001b[0;36m5\u001b[0m\u001b[0;34m,\u001b[0m\u001b[0;36m6\u001b[0m\u001b[0;34m]\u001b[0m\u001b[0;34m)\u001b[0m\u001b[0;34m\u001b[0m\u001b[0m\n\u001b[0;32m----> 3\u001b[0;31m \u001b[0mnp\u001b[0m\u001b[0;34m.\u001b[0m\u001b[0mdot\u001b[0m\u001b[0;34m(\u001b[0m\u001b[0ma\u001b[0m\u001b[0;34m,\u001b[0m\u001b[0mb\u001b[0m\u001b[0;34m)\u001b[0m\u001b[0;34m\u001b[0m\u001b[0m\n\u001b[0m",
      "\u001b[0;31mValueError\u001b[0m: shapes (3,) and (2,) not aligned: 3 (dim 0) != 2 (dim 0)"
     ]
    }
   ],
   "source": [
    "a = np.array([1,2,3])\n",
    "b = np.array([5,6])\n",
    "np.dot(a,b)"
   ]
  },
  {
   "cell_type": "markdown",
   "metadata": {},
   "source": [
    "**Obviously, it won't work because if you see these in 2D shapes, they're `1 x 3` and `1 x 2`**"
   ]
  },
  {
   "cell_type": "code",
   "execution_count": 15,
   "metadata": {},
   "outputs": [
    {
     "ename": "ValueError",
     "evalue": "shapes (3,) and (1,) not aligned: 3 (dim 0) != 1 (dim 0)",
     "output_type": "error",
     "traceback": [
      "\u001b[0;31m---------------------------------------------------------------------------\u001b[0m",
      "\u001b[0;31mValueError\u001b[0m                                Traceback (most recent call last)",
      "\u001b[0;32m<ipython-input-15-74627cd5b303>\u001b[0m in \u001b[0;36m<module>\u001b[0;34m()\u001b[0m\n\u001b[1;32m      1\u001b[0m \u001b[0ma\u001b[0m \u001b[0;34m=\u001b[0m \u001b[0mnp\u001b[0m\u001b[0;34m.\u001b[0m\u001b[0marray\u001b[0m\u001b[0;34m(\u001b[0m\u001b[0;34m[\u001b[0m\u001b[0;36m1\u001b[0m\u001b[0;34m,\u001b[0m\u001b[0;36m2\u001b[0m\u001b[0;34m,\u001b[0m\u001b[0;36m3\u001b[0m\u001b[0;34m]\u001b[0m\u001b[0;34m)\u001b[0m\u001b[0;34m\u001b[0m\u001b[0m\n\u001b[1;32m      2\u001b[0m \u001b[0mb\u001b[0m \u001b[0;34m=\u001b[0m \u001b[0mnp\u001b[0m\u001b[0;34m.\u001b[0m\u001b[0marray\u001b[0m\u001b[0;34m(\u001b[0m\u001b[0;34m[\u001b[0m\u001b[0;36m5\u001b[0m\u001b[0;34m]\u001b[0m\u001b[0;34m)\u001b[0m\u001b[0;34m\u001b[0m\u001b[0m\n\u001b[0;32m----> 3\u001b[0;31m \u001b[0mnp\u001b[0m\u001b[0;34m.\u001b[0m\u001b[0mdot\u001b[0m\u001b[0;34m(\u001b[0m\u001b[0ma\u001b[0m\u001b[0;34m,\u001b[0m\u001b[0mb\u001b[0m\u001b[0;34m)\u001b[0m\u001b[0;34m\u001b[0m\u001b[0m\n\u001b[0m",
      "\u001b[0;31mValueError\u001b[0m: shapes (3,) and (1,) not aligned: 3 (dim 0) != 1 (dim 0)"
     ]
    }
   ],
   "source": [
    "a = np.array([1,2,3])\n",
    "b = np.array([5])\n",
    "np.dot(a,b)"
   ]
  },
  {
   "cell_type": "markdown",
   "metadata": {},
   "source": [
    "**Similarly, here also. `1 x 3` and `1 x 1` won't fit together either**\n",
    "`np.dot` basically does Matrix Multiplication, the way we've known it for 2d matrices (But, of course it can do it for N-d matrices also)\n"
   ]
  },
  {
   "cell_type": "code",
   "execution_count": 16,
   "metadata": {
    "collapsed": true
   },
   "outputs": [],
   "source": [
    "a = np.array([1,2,3])\n",
    "b = np.array([[1],\n",
    "    [2],\n",
    "    [3]])"
   ]
  },
  {
   "cell_type": "code",
   "execution_count": 17,
   "metadata": {},
   "outputs": [
    {
     "data": {
      "text/plain": [
       "array([14])"
      ]
     },
     "execution_count": 17,
     "metadata": {},
     "output_type": "execute_result"
    }
   ],
   "source": [
    "np.dot(a,b)"
   ]
  },
  {
   "cell_type": "markdown",
   "metadata": {},
   "source": [
    "That was easy, right? `1*1 + 2*2 + 3*3 = 14`\n",
    "\n",
    "**Let's do it for 2d matrices also.**"
   ]
  },
  {
   "cell_type": "code",
   "execution_count": 18,
   "metadata": {},
   "outputs": [
    {
     "data": {
      "text/plain": [
       "array([[1, 2],\n",
       "       [3, 4]])"
      ]
     },
     "execution_count": 18,
     "metadata": {},
     "output_type": "execute_result"
    }
   ],
   "source": [
    "p = np.array([1,2,3,4]).reshape(2,2)\n",
    "p"
   ]
  },
  {
   "cell_type": "code",
   "execution_count": 20,
   "metadata": {},
   "outputs": [
    {
     "ename": "ValueError",
     "evalue": "cannot reshape array of size 3 into shape (2,2)",
     "output_type": "error",
     "traceback": [
      "\u001b[0;31m---------------------------------------------------------------------------\u001b[0m",
      "\u001b[0;31mValueError\u001b[0m                                Traceback (most recent call last)",
      "\u001b[0;32m<ipython-input-20-a3a759feef2a>\u001b[0m in \u001b[0;36m<module>\u001b[0;34m()\u001b[0m\n\u001b[1;32m      1\u001b[0m \u001b[0;31m# Intentially trying to screw up with reshape. :-)\u001b[0m\u001b[0;34m\u001b[0m\u001b[0;34m\u001b[0m\u001b[0m\n\u001b[0;32m----> 2\u001b[0;31m \u001b[0mq\u001b[0m \u001b[0;34m=\u001b[0m \u001b[0mnp\u001b[0m\u001b[0;34m.\u001b[0m\u001b[0marray\u001b[0m\u001b[0;34m(\u001b[0m\u001b[0;34m[\u001b[0m\u001b[0;36m5\u001b[0m\u001b[0;34m,\u001b[0m\u001b[0;36m6\u001b[0m\u001b[0;34m,\u001b[0m\u001b[0;36m7\u001b[0m\u001b[0;34m]\u001b[0m\u001b[0;34m)\u001b[0m\u001b[0;34m.\u001b[0m\u001b[0mreshape\u001b[0m\u001b[0;34m(\u001b[0m\u001b[0;36m2\u001b[0m\u001b[0;34m,\u001b[0m\u001b[0;36m2\u001b[0m\u001b[0;34m)\u001b[0m\u001b[0;34m\u001b[0m\u001b[0m\n\u001b[0m\u001b[1;32m      3\u001b[0m \u001b[0mq\u001b[0m\u001b[0;34m\u001b[0m\u001b[0m\n",
      "\u001b[0;31mValueError\u001b[0m: cannot reshape array of size 3 into shape (2,2)"
     ]
    }
   ],
   "source": [
    "# Intentially trying to screw up with reshape. :-)\n",
    "q = np.array([5,6,7]).reshape(2,2)\n",
    "q"
   ]
  },
  {
   "cell_type": "code",
   "execution_count": 21,
   "metadata": {},
   "outputs": [
    {
     "data": {
      "text/plain": [
       "array([[5, 6],\n",
       "       [7, 8]])"
      ]
     },
     "execution_count": 21,
     "metadata": {},
     "output_type": "execute_result"
    }
   ],
   "source": [
    "q = np.array([5,6,7,8]).reshape(2,2)\n",
    "q"
   ]
  },
  {
   "cell_type": "code",
   "execution_count": 24,
   "metadata": {},
   "outputs": [
    {
     "data": {
      "text/plain": [
       "array([[19, 22],\n",
       "       [43, 50]])"
      ]
     },
     "execution_count": 24,
     "metadata": {},
     "output_type": "execute_result"
    }
   ],
   "source": [
    "np.dot(p,q)"
   ]
  },
  {
   "cell_type": "markdown",
   "metadata": {},
   "source": [
    "Let's call this dot product matrix X. \n",
    "\n",
    "**`X[0,0] = p[0,0]*q[0,0] + p[0,1]*q[1,0] = 5 + 14 = 19.`**\n",
    "\n",
    "So on...we can get other values also.\n",
    "\n",
    "But, can we try to write another notation for X[0,0] ? \n",
    "\n",
    "Let's check."
   ]
  },
  {
   "cell_type": "code",
   "execution_count": 34,
   "metadata": {},
   "outputs": [
    {
     "data": {
      "text/plain": [
       "array([[0, 1, 2],\n",
       "       [3, 4, 5],\n",
       "       [6, 7, 8]])"
      ]
     },
     "execution_count": 34,
     "metadata": {},
     "output_type": "execute_result"
    }
   ],
   "source": [
    "# In a 1-D array\n",
    "# a[i:j] => items from i through j-1\n",
    "# p[:i] => items from beginning till i-1\n",
    "# p[i:] => items from i till end\n",
    "\n",
    "# In a 2-D array\n",
    "# a[i:j,k:l]  => items from ith to j-1th row and columns matching k to l-1. \n",
    "# For example\n",
    "twoDarray = np.arange(9).reshape(3,3)\n",
    "twoDarray"
   ]
  },
  {
   "cell_type": "code",
   "execution_count": 35,
   "metadata": {},
   "outputs": [
    {
     "data": {
      "text/plain": [
       "array([[0, 1],\n",
       "       [3, 4]])"
      ]
     },
     "execution_count": 35,
     "metadata": {},
     "output_type": "execute_result"
    }
   ],
   "source": [
    "twoDarray[0:2,0:2]"
   ]
  },
  {
   "cell_type": "code",
   "execution_count": 36,
   "metadata": {},
   "outputs": [
    {
     "data": {
      "text/plain": [
       "array([[0, 1],\n",
       "       [3, 4],\n",
       "       [6, 7]])"
      ]
     },
     "execution_count": 36,
     "metadata": {},
     "output_type": "execute_result"
    }
   ],
   "source": [
    "twoDarray[:,0:2]"
   ]
  },
  {
   "cell_type": "markdown",
   "metadata": {},
   "source": [
    "You get the point. \n",
    "\n",
    "Now, let's rethink our problem again. Can we come up for a shorthand notation for X[0,0] ? \n",
    "\n",
    "**`X[0,0] = np.dot(p[0:1,:],q[:,0:1])`**\n",
    "\n",
    "Will that work? "
   ]
  },
  {
   "cell_type": "code",
   "execution_count": 37,
   "metadata": {},
   "outputs": [
    {
     "data": {
      "text/plain": [
       "array([[1, 2]])"
      ]
     },
     "execution_count": 37,
     "metadata": {},
     "output_type": "execute_result"
    }
   ],
   "source": [
    "p[0:1,:]"
   ]
  },
  {
   "cell_type": "code",
   "execution_count": 38,
   "metadata": {},
   "outputs": [
    {
     "data": {
      "text/plain": [
       "array([[5],\n",
       "       [7]])"
      ]
     },
     "execution_count": 38,
     "metadata": {},
     "output_type": "execute_result"
    }
   ],
   "source": [
    "q[:,0:1]"
   ]
  },
  {
   "cell_type": "code",
   "execution_count": 39,
   "metadata": {},
   "outputs": [
    {
     "data": {
      "text/plain": [
       "array([[19]])"
      ]
     },
     "execution_count": 39,
     "metadata": {},
     "output_type": "execute_result"
    }
   ],
   "source": [
    "np.dot(p[0:1,:],q[:,0:1])"
   ]
  },
  {
   "cell_type": "markdown",
   "metadata": {},
   "source": [
    "Awesome!\n",
    "\n",
    "So, it works. Let's generalize it a bit further. \n",
    "\n",
    "**`X[i,j] = np.dot(p[i:i+1,:],q[:,j:j+1])`**\n",
    "\n",
    "Is that correct? Let's check. \n",
    "We know X[0,1] = 22"
   ]
  },
  {
   "cell_type": "code",
   "execution_count": 40,
   "metadata": {},
   "outputs": [
    {
     "data": {
      "text/plain": [
       "array([[22]])"
      ]
     },
     "execution_count": 40,
     "metadata": {},
     "output_type": "execute_result"
    }
   ],
   "source": [
    "np.dot(p[0:1,:],q[:,1:2])"
   ]
  },
  {
   "cell_type": "markdown",
   "metadata": {},
   "source": [
    "What about X[1,1] = 50? "
   ]
  },
  {
   "cell_type": "code",
   "execution_count": 41,
   "metadata": {},
   "outputs": [
    {
     "data": {
      "text/plain": [
       "array([[50]])"
      ]
     },
     "execution_count": 41,
     "metadata": {},
     "output_type": "execute_result"
    }
   ],
   "source": [
    "np.dot(p[1:2,:],q[:,1:2])"
   ]
  },
  {
   "cell_type": "markdown",
   "metadata": {},
   "source": [
    "Awesome. So, it works. The formula is correct. \n",
    "\n",
    "**`X[i,j] = np.dot(p[i:i+1,:], q[:,j:j+1])`**\n",
    "\n",
    "Actually, `p[i:i+1,:]` can be written as `p[i,:]`, since we're only wanting ith row. \n",
    "\n",
    "So, the formula becomes\n",
    "\n",
    "**`X[i,j] = np.dot(p[i,:], q[:,j])`**\n",
    "\n",
    "Okay. We've come quite far. Just hold on a bit more. \n",
    "\n",
    "Now, let's see two results. "
   ]
  },
  {
   "cell_type": "code",
   "execution_count": 42,
   "metadata": {},
   "outputs": [
    {
     "data": {
      "text/plain": [
       "22"
      ]
     },
     "execution_count": 42,
     "metadata": {},
     "output_type": "execute_result"
    }
   ],
   "source": [
    "np.dot(p[0,:],q[:,1])"
   ]
  },
  {
   "cell_type": "code",
   "execution_count": 43,
   "metadata": {},
   "outputs": [
    {
     "data": {
      "text/plain": [
       "22"
      ]
     },
     "execution_count": 43,
     "metadata": {},
     "output_type": "execute_result"
    }
   ],
   "source": [
    "sum(p[0,:] * q[:,1])"
   ]
  },
  {
   "cell_type": "code",
   "execution_count": 44,
   "metadata": {},
   "outputs": [
    {
     "data": {
      "text/plain": [
       "array([ 6, 16])"
      ]
     },
     "execution_count": 44,
     "metadata": {},
     "output_type": "execute_result"
    }
   ],
   "source": [
    "p[0,:] * q[:,1]"
   ]
  },
  {
   "cell_type": "markdown",
   "metadata": {},
   "source": [
    "So, now we know \n",
    "**`np.dot(p[0,:],q[:,1])  =  sum(p[0,:],q[:,1])`**\n",
    "\n",
    "Hence, new formula : \n",
    "\n",
    "**`X[i,j] = sum(p[0,:],q[:,1])`**\n",
    "\n",
    "Now, let's look at the definition of np.dot for N-D arrays.\n",
    "```\n",
    "For N dimensions it is a sum product over the last axis of a and the second-to-last of b\n",
    "\n",
    "dot(a, b)[i,j,k,m] = sum(a[i,j,:] * b[k,:,m])\n",
    "```\n",
    "\n",
    "Just focus on the RHS of the equation. Last axis of the first array, and second-to-last of the second array.\n",
    "\n",
    "Isn't that what we came at for our 2D array np.dot?\n",
    "\n",
    "**`X[i,j] = sum(p[0,:],q[:,1])`**\n",
    "\n",
    "For 2 dimensions, we're using 2nd axis of the first array and 1st axis of the second array. \n",
    "\n",
    "Now you get the intuition? We're just expanding the same thing to N-dimensions in case of N-dimensions formula."
   ]
  },
  {
   "cell_type": "code",
   "execution_count": null,
   "metadata": {
    "collapsed": true
   },
   "outputs": [],
   "source": []
  }
 ],
 "metadata": {
  "kernelspec": {
   "display_name": "Python 3",
   "language": "python",
   "name": "python3"
  },
  "language_info": {
   "codemirror_mode": {
    "name": "ipython",
    "version": 3
   },
   "file_extension": ".py",
   "mimetype": "text/x-python",
   "name": "python",
   "nbconvert_exporter": "python",
   "pygments_lexer": "ipython3",
   "version": "3.5.2"
  }
 },
 "nbformat": 4,
 "nbformat_minor": 2
}
