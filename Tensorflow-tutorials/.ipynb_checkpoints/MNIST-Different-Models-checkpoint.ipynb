{
 "cells": [
  {
   "cell_type": "markdown",
   "metadata": {},
   "source": [
    "# MNIST Different Models"
   ]
  },
  {
   "cell_type": "markdown",
   "metadata": {},
   "source": [
    "### All Imports"
   ]
  },
  {
   "cell_type": "code",
   "execution_count": null,
   "metadata": {},
   "outputs": [],
   "source": [
    "import numpy as np\n",
    "import tensorflow as tf\n",
    "from hyperdash import monitor_cell"
   ]
  },
  {
   "cell_type": "markdown",
   "metadata": {},
   "source": [
    "## Load Data"
   ]
  },
  {
   "cell_type": "code",
   "execution_count": null,
   "metadata": {},
   "outputs": [],
   "source": [
    "from tensorflow.examples.tutorials.mnist import input_data\n",
    "data = input_data.read_data_sets(\"./data/MNIST/\", one_hot=True)"
   ]
  },
  {
   "cell_type": "markdown",
   "metadata": {},
   "source": [
    "### Examining Data"
   ]
  },
  {
   "cell_type": "code",
   "execution_count": 7,
   "metadata": {},
   "outputs": [
    {
     "data": {
      "text/plain": [
       "<module 'tensorflow.examples.tutorials.mnist.input_data' from '/Users/bhavul.g/.virtualenvs/ailearn/lib/python3.5/site-packages/tensorflow/examples/tutorials/mnist/input_data.py'>"
      ]
     },
     "execution_count": 7,
     "metadata": {},
     "output_type": "execute_result"
    }
   ],
   "source": [
    "input_data"
   ]
  },
  {
   "cell_type": "code",
   "execution_count": 10,
   "metadata": {},
   "outputs": [
    {
     "name": "stdout",
     "output_type": "stream",
     "text": [
      "# Copyright 2015 The TensorFlow Authors. All Rights Reserved.\n",
      "#\n",
      "# Licensed under the Apache License, Version 2.0 (the \"License\");\n",
      "# you may not use this file except in compliance with the License.\n",
      "# You may obtain a copy of the License at\n",
      "#\n",
      "#     http://www.apache.org/licenses/LICENSE-2.0\n",
      "#\n",
      "# Unless required by applicable law or agreed to in writing, software\n",
      "# distributed under the License is distributed on an \"AS IS\" BASIS,\n",
      "# WITHOUT WARRANTIES OR CONDITIONS OF ANY KIND, either express or implied.\n",
      "# See the License for the specific language governing permissions and\n",
      "# limitations under the License.\n",
      "# ==============================================================================\n",
      "\n",
      "\"\"\"Functions for downloading and reading MNIST data.\"\"\"\n",
      "from __future__ import absolute_import\n",
      "from __future__ import division\n",
      "from __future__ import print_function\n",
      "\n",
      "import gzip\n",
      "import os\n",
      "import tempfile\n",
      "\n",
      "import numpy\n",
      "from six.moves import urllib\n",
      "from six.moves import xrange  # pylint: disable=redefined-builtin\n",
      "import tensorflow as tf\n",
      "from tensorflow.contrib.learn.python.learn.datasets.mnist import read_data_sets\n",
      "\n"
     ]
    }
   ],
   "source": [
    "# So it is a python file essentially. A module. \n",
    "\n",
    "import inspect\n",
    "src = inspect.getsource(input_data)\n",
    "print(src)"
   ]
  },
  {
   "cell_type": "code",
   "execution_count": 12,
   "metadata": {},
   "outputs": [
    {
     "name": "stdout",
     "output_type": "stream",
     "text": [
      "def read_data_sets(train_dir,\n",
      "                   fake_data=False,\n",
      "                   one_hot=False,\n",
      "                   dtype=dtypes.float32,\n",
      "                   reshape=True,\n",
      "                   validation_size=5000,\n",
      "                   seed=None):\n",
      "  if fake_data:\n",
      "\n",
      "    def fake():\n",
      "      return DataSet(\n",
      "          [], [], fake_data=True, one_hot=one_hot, dtype=dtype, seed=seed)\n",
      "\n",
      "    train = fake()\n",
      "    validation = fake()\n",
      "    test = fake()\n",
      "    return base.Datasets(train=train, validation=validation, test=test)\n",
      "\n",
      "  TRAIN_IMAGES = 'train-images-idx3-ubyte.gz'\n",
      "  TRAIN_LABELS = 'train-labels-idx1-ubyte.gz'\n",
      "  TEST_IMAGES = 't10k-images-idx3-ubyte.gz'\n",
      "  TEST_LABELS = 't10k-labels-idx1-ubyte.gz'\n",
      "\n",
      "  local_file = base.maybe_download(TRAIN_IMAGES, train_dir,\n",
      "                                   SOURCE_URL + TRAIN_IMAGES)\n",
      "  with open(local_file, 'rb') as f:\n",
      "    train_images = extract_images(f)\n",
      "\n",
      "  local_file = base.maybe_download(TRAIN_LABELS, train_dir,\n",
      "                                   SOURCE_URL + TRAIN_LABELS)\n",
      "  with open(local_file, 'rb') as f:\n",
      "    train_labels = extract_labels(f, one_hot=one_hot)\n",
      "\n",
      "  local_file = base.maybe_download(TEST_IMAGES, train_dir,\n",
      "                                   SOURCE_URL + TEST_IMAGES)\n",
      "  with open(local_file, 'rb') as f:\n",
      "    test_images = extract_images(f)\n",
      "\n",
      "  local_file = base.maybe_download(TEST_LABELS, train_dir,\n",
      "                                   SOURCE_URL + TEST_LABELS)\n",
      "  with open(local_file, 'rb') as f:\n",
      "    test_labels = extract_labels(f, one_hot=one_hot)\n",
      "\n",
      "  if not 0 <= validation_size <= len(train_images):\n",
      "    raise ValueError(\n",
      "        'Validation size should be between 0 and {}. Received: {}.'\n",
      "        .format(len(train_images), validation_size))\n",
      "\n",
      "  validation_images = train_images[:validation_size]\n",
      "  validation_labels = train_labels[:validation_size]\n",
      "  train_images = train_images[validation_size:]\n",
      "  train_labels = train_labels[validation_size:]\n",
      "\n",
      "  \n",
      "  options = dict(dtype=dtype, reshape=reshape, seed=seed)\n",
      "  \n",
      "  train = DataSet(train_images, train_labels, **options)\n",
      "  validation = DataSet(validation_images, validation_labels, **options)\n",
      "  test = DataSet(test_images, test_labels, **options)\n",
      "  \n",
      "  return base.Datasets(train=train, validation=validation, test=test)\n",
      "\n"
     ]
    }
   ],
   "source": [
    "# Okay, so actual logic must be in read_data_sets function.\n",
    "\n",
    "srcMethod = inspect.getsource(input_data.read_data_sets)\n",
    "print(srcMethod)"
   ]
  },
  {
   "cell_type": "code",
   "execution_count": 17,
   "metadata": {},
   "outputs": [
    {
     "name": "stdout",
     "output_type": "stream",
     "text": [
      "def extract_labels(f, one_hot=False, num_classes=10):\n",
      "  \"\"\"Extract the labels into a 1D uint8 numpy array [index].\n",
      "\n",
      "  Args:\n",
      "    f: A file object that can be passed into a gzip reader.\n",
      "    one_hot: Does one hot encoding for the result.\n",
      "    num_classes: Number of classes for the one hot encoding.\n",
      "\n",
      "  Returns:\n",
      "    labels: a 1D uint8 numpy array.\n",
      "\n",
      "  Raises:\n",
      "    ValueError: If the bystream doesn't start with 2049.\n",
      "  \"\"\"\n",
      "  print('Extracting', f.name)\n",
      "  with gzip.GzipFile(fileobj=f) as bytestream:\n",
      "    magic = _read32(bytestream)\n",
      "    if magic != 2049:\n",
      "      raise ValueError('Invalid magic number %d in MNIST label file: %s' %\n",
      "                       (magic, f.name))\n",
      "    num_items = _read32(bytestream)\n",
      "    buf = bytestream.read(num_items)\n",
      "    labels = numpy.frombuffer(buf, dtype=numpy.uint8)\n",
      "    if one_hot:\n",
      "      return dense_to_one_hot(labels, num_classes)\n",
      "    return labels\n",
      "\n",
      "\n",
      "------------------------------------------------------------------\n",
      "\n",
      "def extract_images(f):\n",
      "  \"\"\"Extract the images into a 4D uint8 numpy array [index, y, x, depth].\n",
      "\n",
      "  Args:\n",
      "    f: A file object that can be passed into a gzip reader.\n",
      "\n",
      "  Returns:\n",
      "    data: A 4D uint8 numpy array [index, y, x, depth].\n",
      "\n",
      "  Raises:\n",
      "    ValueError: If the bytestream does not start with 2051.\n",
      "\n",
      "  \"\"\"\n",
      "  print('Extracting', f.name)\n",
      "  with gzip.GzipFile(fileobj=f) as bytestream:\n",
      "    magic = _read32(bytestream)\n",
      "    if magic != 2051:\n",
      "      raise ValueError('Invalid magic number %d in MNIST image file: %s' %\n",
      "                       (magic, f.name))\n",
      "    num_images = _read32(bytestream)\n",
      "    rows = _read32(bytestream)\n",
      "    cols = _read32(bytestream)\n",
      "    buf = bytestream.read(rows * cols * num_images)\n",
      "    data = numpy.frombuffer(buf, dtype=numpy.uint8)\n",
      "    data = data.reshape(num_images, rows, cols, 1)\n",
      "    return data\n",
      "\n"
     ]
    }
   ],
   "source": [
    "# The above code seems very intuitive. Just extract_images and extract_labels could be checked\n",
    "\n",
    "from tensorflow.contrib.learn.python.learn.datasets import mnist\n",
    "\n",
    "src_extract_labels = inspect.getsource(mnist.extract_labels)\n",
    "src_extract_images = inspect.getsource(mnist.extract_images)\n",
    "\n",
    "print(src_extract_labels)\n",
    "print(\"\\n------------------------------------------------------------------\\n\")\n",
    "print(src_extract_images)\n"
   ]
  },
  {
   "cell_type": "code",
   "execution_count": 19,
   "metadata": {},
   "outputs": [
    {
     "name": "stdout",
     "output_type": "stream",
     "text": [
      "Datasets(train=<tensorflow.contrib.learn.python.learn.datasets.mnist.DataSet object at 0x11dba5208>, validation=<tensorflow.contrib.learn.python.learn.datasets.mnist.DataSet object at 0x11dba51d0>, test=<tensorflow.contrib.learn.python.learn.datasets.mnist.DataSet object at 0x11dba5278>)\n"
     ]
    }
   ],
   "source": [
    "# Cool. Easy enough to understand. Let's check what is in data now.\n",
    "\n",
    "print(data)"
   ]
  },
  {
   "cell_type": "code",
   "execution_count": 25,
   "metadata": {},
   "outputs": [
    {
     "name": "stdout",
     "output_type": "stream",
     "text": [
      "55000\n"
     ]
    }
   ],
   "source": [
    "print(len(data.train.images))"
   ]
  },
  {
   "cell_type": "code",
   "execution_count": 27,
   "metadata": {},
   "outputs": [
    {
     "name": "stdout",
     "output_type": "stream",
     "text": [
      "[ 0.          0.          0.          0.          0.          0.          0.\n",
      "  0.          0.          0.          0.          0.          0.          0.\n",
      "  0.          0.          0.          0.          0.          0.          0.\n",
      "  0.          0.          0.          0.          0.          0.          0.\n",
      "  0.          0.          0.          0.          0.          0.          0.\n",
      "  0.          0.          0.          0.          0.          0.          0.\n",
      "  0.          0.          0.          0.          0.          0.          0.\n",
      "  0.          0.          0.          0.          0.          0.          0.\n",
      "  0.          0.          0.          0.          0.          0.          0.\n",
      "  0.          0.          0.          0.          0.          0.          0.\n",
      "  0.          0.          0.          0.          0.          0.          0.\n",
      "  0.          0.          0.          0.          0.          0.          0.\n",
      "  0.          0.          0.          0.          0.          0.          0.\n",
      "  0.          0.          0.          0.          0.          0.          0.\n",
      "  0.          0.          0.          0.          0.          0.          0.\n",
      "  0.          0.          0.          0.          0.          0.          0.\n",
      "  0.          0.          0.          0.          0.          0.          0.\n",
      "  0.          0.          0.          0.          0.          0.          0.\n",
      "  0.          0.          0.          0.          0.          0.          0.\n",
      "  0.          0.          0.          0.          0.          0.          0.\n",
      "  0.          0.          0.          0.          0.          0.          0.\n",
      "  0.          0.          0.          0.          0.          0.          0.\n",
      "  0.          0.          0.          0.          0.          0.          0.\n",
      "  0.          0.          0.          0.          0.          0.          0.\n",
      "  0.          0.          0.          0.          0.          0.          0.\n",
      "  0.          0.          0.          0.          0.          0.          0.\n",
      "  0.          0.          0.          0.          0.          0.          0.\n",
      "  0.          0.          0.          0.          0.          0.          0.\n",
      "  0.          0.          0.          0.          0.          0.          0.\n",
      "  0.          0.          0.          0.          0.38039219  0.37647063\n",
      "  0.3019608   0.46274513  0.2392157   0.          0.          0.          0.\n",
      "  0.          0.          0.          0.          0.          0.          0.\n",
      "  0.          0.          0.          0.          0.35294119  0.5411765\n",
      "  0.92156869  0.92156869  0.92156869  0.92156869  0.92156869  0.92156869\n",
      "  0.98431379  0.98431379  0.97254908  0.99607849  0.96078438  0.92156869\n",
      "  0.74509805  0.08235294  0.          0.          0.          0.          0.\n",
      "  0.          0.          0.          0.          0.          0.\n",
      "  0.54901963  0.98431379  0.99607849  0.99607849  0.99607849  0.99607849\n",
      "  0.99607849  0.99607849  0.99607849  0.99607849  0.99607849  0.99607849\n",
      "  0.99607849  0.99607849  0.99607849  0.99607849  0.74117649  0.09019608\n",
      "  0.          0.          0.          0.          0.          0.          0.\n",
      "  0.          0.          0.          0.88627458  0.99607849  0.81568635\n",
      "  0.78039223  0.78039223  0.78039223  0.78039223  0.54509807  0.2392157\n",
      "  0.2392157   0.2392157   0.2392157   0.2392157   0.50196081  0.8705883\n",
      "  0.99607849  0.99607849  0.74117649  0.08235294  0.          0.          0.\n",
      "  0.          0.          0.          0.          0.          0.\n",
      "  0.14901961  0.32156864  0.0509804   0.          0.          0.          0.\n",
      "  0.          0.          0.          0.          0.          0.          0.\n",
      "  0.13333334  0.83529419  0.99607849  0.99607849  0.45098042  0.          0.\n",
      "  0.          0.          0.          0.          0.          0.          0.\n",
      "  0.          0.          0.          0.          0.          0.          0.\n",
      "  0.          0.          0.          0.          0.          0.          0.\n",
      "  0.          0.32941177  0.99607849  0.99607849  0.91764712  0.          0.\n",
      "  0.          0.          0.          0.          0.          0.          0.\n",
      "  0.          0.          0.          0.          0.          0.          0.\n",
      "  0.          0.          0.          0.          0.          0.          0.\n",
      "  0.          0.32941177  0.99607849  0.99607849  0.91764712  0.          0.\n",
      "  0.          0.          0.          0.          0.          0.          0.\n",
      "  0.          0.          0.          0.          0.          0.          0.\n",
      "  0.          0.          0.          0.          0.          0.          0.\n",
      "  0.41568631  0.6156863   0.99607849  0.99607849  0.95294124  0.20000002\n",
      "  0.          0.          0.          0.          0.          0.          0.\n",
      "  0.          0.          0.          0.          0.          0.          0.\n",
      "  0.          0.          0.          0.09803922  0.45882356  0.89411771\n",
      "  0.89411771  0.89411771  0.99215692  0.99607849  0.99607849  0.99607849\n",
      "  0.99607849  0.94117653  0.          0.          0.          0.          0.\n",
      "  0.          0.          0.          0.          0.          0.          0.\n",
      "  0.          0.          0.          0.26666668  0.4666667   0.86274517\n",
      "  0.99607849  0.99607849  0.99607849  0.99607849  0.99607849  0.99607849\n",
      "  0.99607849  0.99607849  0.99607849  0.55686277  0.          0.          0.\n",
      "  0.          0.          0.          0.          0.          0.          0.\n",
      "  0.          0.          0.          0.14509805  0.73333335  0.99215692\n",
      "  0.99607849  0.99607849  0.99607849  0.87450987  0.80784321  0.80784321\n",
      "  0.29411766  0.26666668  0.84313732  0.99607849  0.99607849  0.45882356\n",
      "  0.          0.          0.          0.          0.          0.          0.\n",
      "  0.          0.          0.          0.          0.          0.44313729\n",
      "  0.8588236   0.99607849  0.94901967  0.89019614  0.45098042  0.34901962\n",
      "  0.12156864  0.          0.          0.          0.          0.7843138\n",
      "  0.99607849  0.9450981   0.16078432  0.          0.          0.          0.\n",
      "  0.          0.          0.          0.          0.          0.          0.\n",
      "  0.          0.66274512  0.99607849  0.6901961   0.24313727  0.          0.\n",
      "  0.          0.          0.          0.          0.          0.18823531\n",
      "  0.90588242  0.99607849  0.91764712  0.          0.          0.          0.\n",
      "  0.          0.          0.          0.          0.          0.          0.\n",
      "  0.          0.          0.07058824  0.48627454  0.          0.          0.\n",
      "  0.          0.          0.          0.          0.          0.\n",
      "  0.32941177  0.99607849  0.99607849  0.65098041  0.          0.          0.\n",
      "  0.          0.          0.          0.          0.          0.          0.\n",
      "  0.          0.          0.          0.          0.          0.          0.\n",
      "  0.          0.          0.          0.          0.          0.          0.\n",
      "  0.54509807  0.99607849  0.9333334   0.22352943  0.          0.          0.\n",
      "  0.          0.          0.          0.          0.          0.          0.\n",
      "  0.          0.          0.          0.          0.          0.          0.\n",
      "  0.          0.          0.          0.          0.          0.\n",
      "  0.82352948  0.98039222  0.99607849  0.65882355  0.          0.          0.\n",
      "  0.          0.          0.          0.          0.          0.          0.\n",
      "  0.          0.          0.          0.          0.          0.          0.\n",
      "  0.          0.          0.          0.          0.          0.          0.\n",
      "  0.94901967  0.99607849  0.93725497  0.22352943  0.          0.          0.\n",
      "  0.          0.          0.          0.          0.          0.          0.\n",
      "  0.          0.          0.          0.          0.          0.          0.\n",
      "  0.          0.          0.          0.          0.          0.\n",
      "  0.34901962  0.98431379  0.9450981   0.33725491  0.          0.          0.\n",
      "  0.          0.          0.          0.          0.          0.          0.\n",
      "  0.          0.          0.          0.          0.          0.          0.\n",
      "  0.          0.          0.          0.          0.          0.\n",
      "  0.01960784  0.80784321  0.96470594  0.6156863   0.          0.          0.\n",
      "  0.          0.          0.          0.          0.          0.          0.\n",
      "  0.          0.          0.          0.          0.          0.          0.\n",
      "  0.          0.          0.          0.          0.          0.          0.\n",
      "  0.01568628  0.45882356  0.27058825  0.          0.          0.          0.\n",
      "  0.          0.          0.          0.          0.          0.          0.\n",
      "  0.          0.          0.          0.          0.          0.          0.\n",
      "  0.          0.          0.          0.          0.          0.          0.\n",
      "  0.          0.          0.          0.          0.          0.          0.\n",
      "  0.          0.          0.          0.          0.          0.          0.        ]\n"
     ]
    }
   ],
   "source": [
    "# Check one example\n",
    "\n",
    "print(data.train.images[0])"
   ]
  },
  {
   "cell_type": "code",
   "execution_count": 28,
   "metadata": {},
   "outputs": [
    {
     "name": "stdout",
     "output_type": "stream",
     "text": [
      "(784,)\n"
     ]
    }
   ],
   "source": [
    "# What was the dimensions?\n",
    "\n",
    "print(data.train.images[0].shape)"
   ]
  },
  {
   "cell_type": "code",
   "execution_count": 31,
   "metadata": {},
   "outputs": [
    {
     "name": "stdout",
     "output_type": "stream",
     "text": [
      "The img above is meant to be  [ 0.  0.  0.  0.  0.  0.  0.  1.  0.  0.]\n"
     ]
    },
    {
     "data": {
      "image/png": "[encoded data removed]",
      "text/plain": [
       "<matplotlib.figure.Figure at 0x1054cd550>"
      ]
     },
     "metadata": {},
     "output_type": "display_data"
    }
   ],
   "source": [
    "# AAh. So, must be 28 * 28. Let's reshape and try to plot then. \n",
    "# https://matplotlib.org/users/image_tutorial.html   ------ This tells how we could plot it.\n",
    "\n",
    "%matplotlib inline\n",
    "import matplotlib.pyplot as plt\n",
    "imgplot = plt.imshow(data.train.images[0].reshape((28,28)))\n",
    "print(\"The img above is meant to be \",data.train.labels[0])"
   ]
  },
  {
   "cell_type": "code",
   "execution_count": 32,
   "metadata": {},
   "outputs": [
    {
     "name": "stdout",
     "output_type": "stream",
     "text": [
      "The img above is meant to be  [ 0.  0.  0.  1.  0.  0.  0.  0.  0.  0.]\n"
     ]
    },
    {
     "data": {
      "image/png": "[encoded data removed]",
      "text/plain": [
       "<matplotlib.figure.Figure at 0x129f44a90>"
      ]
     },
     "metadata": {},
     "output_type": "display_data"
    }
   ],
   "source": [
    "# Let's do another one.\n",
    "imgplot2 = plt.imshow(data.train.images[1].reshape((28,28)))\n",
    "print(\"The img above is meant to be \",data.train.labels[1])"
   ]
  },
  {
   "cell_type": "code",
   "execution_count": 33,
   "metadata": {},
   "outputs": [
    {
     "name": "stdout",
     "output_type": "stream",
     "text": [
      "Dimensions of training data X :  (55000, 784)\n",
      "Dimensions of training data Y :  (55000, 10)\n",
      "Dimensions of training data X :  (5000, 784)\n",
      "Dimensions of training data Y :  (5000, 10)\n",
      "Dimensions of training data X :  (10000, 784)\n",
      "Dimensions of training data Y :  (10000, 10)\n"
     ]
    }
   ],
   "source": [
    "# Let's check dimensions\n",
    "\n",
    "print(\"Dimensions of training data X : \",data.train.images.shape)\n",
    "print(\"Dimensions of training data Y : \",data.train.labels.shape)\n",
    "print(\"Dimensions of training data X : \",data.validation.images.shape)\n",
    "print(\"Dimensions of training data Y : \",data.validation.labels.shape)\n",
    "print(\"Dimensions of training data X : \",data.test.images.shape)\n",
    "print(\"Dimensions of training data Y : \",data.test.labels.shape)"
   ]
  },
  {
   "cell_type": "markdown",
   "metadata": {},
   "source": [
    "**So, every row here represents an image / one_hot_label. Instead of a column. This is where it differs from the deeplearning.ai course**"
   ]
  },
  {
   "cell_type": "markdown",
   "metadata": {},
   "source": [
    "## Linear Model"
   ]
  },
  {
   "cell_type": "markdown",
   "metadata": {},
   "source": [
    "### Without Mini-Batches"
   ]
  },
  {
   "cell_type": "code",
   "execution_count": 45,
   "metadata": {},
   "outputs": [
    {
     "name": "stdout",
     "output_type": "stream",
     "text": [
      "cost at  0 th iteration is :  0.586658\n",
      "cost at  5 th iteration is :  0.391887\n",
      "cost at  10 th iteration is :  0.342949\n",
      "cost at  15 th iteration is :  0.321183\n"
     ]
    }
   ],
   "source": [
    "# code to add\n",
    "X1 = tf.placeholder(tf.float32, [784, None])\n",
    "Y1 = tf.placeholder(tf.float32, [10, None])\n",
    "\n",
    "# Model is simple W*X + b. \n",
    "# IMPORTANT : If say we're doing for 55000 examples. W would be 10x784, X is 784x55000,  b should ideally be 10,55000. But 55000 is not known from before.\n",
    "# So, the point is, 'Variable' needs initialization which can not have 'None'. So, how do we fix this?\n",
    "# Just keep it as dimension - (10,1). Python, numpy, tf ---- let them do BROADCASTING :-)\n",
    "\n",
    "W1 = tf.Variable(tf.zeros((10,784)))\n",
    "b1 = tf.Variable(tf.zeros((10,1)))           \n",
    "\n",
    "Z1 = tf.matmul(W1,X1) + b1\n",
    "\n",
    "# We'll do a softmax for this so that ever number comes b/w 0 and 1. Together they should sum up to 1. Normalization.\n",
    "Y1_pred_softmax = tf.nn.softmax(Z1)\n",
    "Y1_pred_sigmoid = tf.nn.sigmoid(Z1)\n",
    "\n",
    "\n",
    "cost = tf.nn.sigmoid_cross_entropy_with_logits(logits=Z1, labels=Y1)\n",
    "# Reduce cost to just one number. \n",
    "cost_mean = tf.reduce_mean(cost) \n",
    "\n",
    "optimizer = tf.train.GradientDescentOptimizer(learning_rate=0.2).minimize(cost_mean)\n",
    "\n",
    "session = tf.Session()\n",
    "init = tf.global_variables_initializer()\n",
    "session.run(init)\n",
    "\n",
    "# 1000 epochs \n",
    "for i in range(20):\n",
    "    session.run(optimizer, feed_dict={X1:data.train.images.T, Y1:data.train.labels.T})\n",
    "    if i%5 == 0:\n",
    "        print(\"cost at \",i,\"th iteration is : \",session.run(cost_mean, feed_dict={X1:data.train.images.T, Y1:data.train.labels.T}))"
   ]
  },
  {
   "cell_type": "markdown",
   "metadata": {},
   "source": [
    "### Without mini-batches, more epochs"
   ]
  },
  {
   "cell_type": "code",
   "execution_count": 46,
   "metadata": {},
   "outputs": [
    {
     "name": "stdout",
     "output_type": "stream",
     "text": [
      "cost at  0 th iteration is :  0.586658\n",
      "cost at  5 th iteration is :  0.391887\n",
      "cost at  10 th iteration is :  0.342949\n",
      "cost at  15 th iteration is :  0.321183\n",
      "cost at  20 th iteration is :  0.307678\n",
      "cost at  25 th iteration is :  0.297502\n",
      "cost at  30 th iteration is :  0.288973\n",
      "cost at  35 th iteration is :  0.281426\n",
      "cost at  40 th iteration is :  0.274557\n",
      "cost at  45 th iteration is :  0.268211\n",
      "cost at  50 th iteration is :  0.262309\n",
      "cost at  55 th iteration is :  0.256788\n",
      "cost at  60 th iteration is :  0.251614\n",
      "cost at  65 th iteration is :  0.246754\n",
      "cost at  70 th iteration is :  0.242181\n",
      "cost at  75 th iteration is :  0.237871\n",
      "cost at  80 th iteration is :  0.233806\n",
      "cost at  85 th iteration is :  0.229963\n",
      "cost at  90 th iteration is :  0.226329\n",
      "cost at  95 th iteration is :  0.222887\n"
     ]
    }
   ],
   "source": [
    "# code to add\n",
    "X1 = tf.placeholder(tf.float32, [784, None])\n",
    "Y1 = tf.placeholder(tf.float32, [10, None])\n",
    "\n",
    "# Model is simple W*X + b. \n",
    "# IMPORTANT : If say we're doing for 55000 examples. W would be 10x784, X is 784x55000,  b should ideally be 10,55000. But 55000 is not known from before.\n",
    "# So, the point is, 'Variable' needs initialization which can not have 'None'. So, how do we fix this?\n",
    "# Just keep it as dimension - (10,1). Python, numpy, tf ---- let them do BROADCASTING :-)\n",
    "\n",
    "W1 = tf.Variable(tf.zeros((10,784)))\n",
    "b1 = tf.Variable(tf.zeros((10,1)))           \n",
    "\n",
    "Z1 = tf.matmul(W1,X1) + b1\n",
    "\n",
    "# We'll do a softmax for this so that ever number comes b/w 0 and 1. Together they should sum up to 1. Normalization.\n",
    "Y1_pred_softmax = tf.nn.softmax(Z1)\n",
    "Y1_pred_sigmoid = tf.nn.sigmoid(Z1)\n",
    "\n",
    "\n",
    "cost = tf.nn.sigmoid_cross_entropy_with_logits(logits=Z1, labels=Y1)\n",
    "# Reduce cost to just one number. \n",
    "cost_mean = tf.reduce_mean(cost) \n",
    "\n",
    "optimizer = tf.train.GradientDescentOptimizer(learning_rate=0.2).minimize(cost_mean)\n",
    "\n",
    "session = tf.Session()\n",
    "init = tf.global_variables_initializer()\n",
    "session.run(init)\n",
    "\n",
    "# 1000 epochs \n",
    "for i in range(100):\n",
    "    session.run(optimizer, feed_dict={X1:data.train.images.T, Y1:data.train.labels.T})\n",
    "    if i%5 == 0:\n",
    "        print(\"cost at \",i,\"th iteration is : \",session.run(cost_mean, feed_dict={X1:data.train.images.T, Y1:data.train.labels.T}))"
   ]
  },
  {
   "cell_type": "markdown",
   "metadata": {},
   "source": [
    "### With mini-batches"
   ]
  },
  {
   "cell_type": "code",
   "execution_count": 50,
   "metadata": {},
   "outputs": [
    {
     "name": "stdout",
     "output_type": "stream",
     "text": [
      "cost at  0 th iteration is :  0.257947\n",
      "cost at  5 th iteration is :  0.15263\n",
      "cost at  10 th iteration is :  0.128502\n",
      "cost at  15 th iteration is :  0.116752\n"
     ]
    }
   ],
   "source": [
    "# code to add\n",
    "X1 = tf.placeholder(tf.float32, [784, None])\n",
    "Y1 = tf.placeholder(tf.float32, [10, None])\n",
    "\n",
    "# Model is simple W*X + b. \n",
    "# IMPORTANT : If say we're doing for 55000 examples. W would be 10x784, X is 784x55000,  b should ideally be 10,55000. But 55000 is not known from before.\n",
    "# So, the point is, 'Variable' needs initialization which can not have 'None'. So, how do we fix this?\n",
    "# Just keep it as dimension - (10,1). Python, numpy, tf ---- let them do BROADCASTING :-)\n",
    "\n",
    "W1 = tf.Variable(tf.zeros((10,784)))\n",
    "b1 = tf.Variable(tf.zeros((10,1)))           \n",
    "\n",
    "Z1 = tf.matmul(W1,X1) + b1\n",
    "\n",
    "# We'll do a softmax for this so that ever number comes b/w 0 and 1. Together they should sum up to 1. Normalization.\n",
    "Y1_pred_softmax = tf.nn.softmax(Z1)\n",
    "Y1_pred_sigmoid = tf.nn.sigmoid(Z1)\n",
    "\n",
    "\n",
    "cost = tf.nn.sigmoid_cross_entropy_with_logits(logits=Z1, labels=Y1)\n",
    "# Reduce cost to just one number. \n",
    "cost_mean = tf.reduce_mean(cost) \n",
    "\n",
    "optimizer = tf.train.GradientDescentOptimizer(learning_rate=0.2).minimize(cost_mean)\n",
    "\n",
    "session = tf.Session()\n",
    "init = tf.global_variables_initializer()\n",
    "session.run(init)\n",
    "\n",
    "# mini-batches of 1000 (so 55 mini-batches)\n",
    "for i in range(20):\n",
    "    for t in range(55):\n",
    "        X_batch, Y_batch = data.train.next_batch(1000)\n",
    "        session.run(optimizer, feed_dict={X1:X_batch.T, Y1:Y_batch.T})\n",
    "    if i%5 == 0:\n",
    "        print(\"cost at \",i,\"th iteration is : \",session.run(cost_mean, feed_dict={X1:data.train.images.T, Y1:data.train.labels.T}))"
   ]
  },
  {
   "cell_type": "markdown",
   "metadata": {},
   "source": [
    "### With Adam instead of gradient descent"
   ]
  },
  {
   "cell_type": "code",
   "execution_count": 51,
   "metadata": {},
   "outputs": [
    {
     "name": "stdout",
     "output_type": "stream",
     "text": [
      "cost at  0 th iteration is :  0.14534\n",
      "cost at  5 th iteration is :  0.0687919\n",
      "cost at  10 th iteration is :  0.0697996\n",
      "cost at  15 th iteration is :  0.0731332\n"
     ]
    }
   ],
   "source": [
    "# code to add\n",
    "X1 = tf.placeholder(tf.float32, [784, None])\n",
    "Y1 = tf.placeholder(tf.float32, [10, None])\n",
    "\n",
    "# Model is simple W*X + b. \n",
    "# IMPORTANT : If say we're doing for 55000 examples. W would be 10x784, X is 784x55000,  b should ideally be 10,55000. But 55000 is not known from before.\n",
    "# So, the point is, 'Variable' needs initialization which can not have 'None'. So, how do we fix this?\n",
    "# Just keep it as dimension - (10,1). Python, numpy, tf ---- let them do BROADCASTING :-)\n",
    "\n",
    "W1 = tf.Variable(tf.zeros((10,784)))\n",
    "b1 = tf.Variable(tf.zeros((10,1)))           \n",
    "\n",
    "Z1 = tf.matmul(W1,X1) + b1\n",
    "\n",
    "# We'll do a softmax for this so that ever number comes b/w 0 and 1. Together they should sum up to 1. Normalization.\n",
    "Y1_pred_softmax = tf.nn.softmax(Z1)\n",
    "Y1_pred_sigmoid = tf.nn.sigmoid(Z1)\n",
    "\n",
    "\n",
    "cost = tf.nn.sigmoid_cross_entropy_with_logits(logits=Z1, labels=Y1)\n",
    "# Reduce cost to just one number. \n",
    "cost_mean = tf.reduce_mean(cost) \n",
    "\n",
    "optimizer = tf.train.AdamOptimizer(learning_rate=0.01).minimize(cost_mean)\n",
    "\n",
    "session = tf.Session()\n",
    "init = tf.global_variables_initializer()\n",
    "session.run(init)\n",
    "\n",
    "# mini-batches of 1000 (so 55 mini-batches)\n",
    "for i in range(25):\n",
    "    for t in range(55):\n",
    "        X_batch, Y_batch = data.train.next_batch(1000)\n",
    "        session.run(optimizer, feed_dict={X1:X_batch.T, Y1:Y_batch.T})\n",
    "    if i%5 == 0:\n",
    "        print(\"cost at \",i,\"th iteration is : \",session.run(cost_mean, feed_dict={X1:data.train.images.T, Y1:data.train.labels.T}))"
   ]
  },
  {
   "cell_type": "markdown",
   "metadata": {},
   "source": [
    "**Observations**\n",
    "- Mini-batch obviously works better!\n",
    "- AdamOptizer is damn fast. But obviously, now your cost could increase/decrease a bit "
   ]
  },
  {
   "cell_type": "code",
   "execution_count": null,
   "metadata": {},
   "outputs": [],
   "source": [
    "%%monitor_cell \"MNIST 2 layer NN\"\n",
    "## 2 Layer NN\n",
    "\n",
    "# code to add\n",
    "X1 = tf.placeholder(tf.float32, [784, None], name='X1')\n",
    "Y1 = tf.placeholder(tf.float32, [10, None], name='Y1')\n",
    "Y1_cls = tf.argmax(Y1, axis=0)\n",
    "\n",
    "W1 = tf.Variable(tf.random_normal((100,784)))\n",
    "b1 = tf.Variable(tf.zeros((1,1)))           \n",
    "\n",
    "W2 = tf.Variable(tf.random_normal((10,100)))\n",
    "b2 = tf.Variable(tf.zeros((1,1)))\n",
    "\n",
    "Z1 = tf.matmul(W1,X1) + b1\n",
    "A1 = tf.nn.relu(Z1)\n",
    "\n",
    "Z2 = tf.matmul(W2,A1) + b2\n",
    "A2 = tf.nn.softmax(Z2)\n",
    "\n",
    "cost = tf.nn.sigmoid_cross_entropy_with_logits(logits=Z2, labels=Y1)\n",
    "# Reduce cost to just one number. \n",
    "cost_mean = tf.reduce_mean(cost) \n",
    "\n",
    "optimizer = tf.train.GradientDescentOptimizer(learning_rate=0.2).minimize(cost_mean)\n",
    "\n",
    "# We'll do a softmax for this so that ever number comes b/w 0 and 1. Together they should sum up to 1. Normalization.\n",
    "Y2_pred_axis0 = tf.argmax(A2, axis=0)\n",
    "\n",
    "\n",
    "session = tf.Session()\n",
    "init = tf.global_variables_initializer()\n",
    "session.run(init)\n",
    "\n",
    "# mini-batches of 1000 (so 55 mini-batches)\n",
    "for i in range(1000):\n",
    "    X_batch, Y_batch = data.train.next_batch(1000)\n",
    "    _, cost_mean_val, shapeZ2,pred_axis0 = session.run([optimizer,cost_mean,tf.shape(Z2),Y2_pred_axis0], feed_dict={X1:X_batch.T, Y1:Y_batch.T})\n",
    "    if i%5 == 0:\n",
    "        print(\"cost at \",t,\"th iteration is : \",cost_mean_val,shapeZ2)\n",
    "\n",
    "correct_prediction = tf.equal(Y2_pred_axis0, Y1_cls)\n",
    "accuracy = tf.reduce_mean(tf.cast(correct_prediction, tf.float32))\n",
    "print(\"training accuracy : \",session.run(accuracy, feed_dict={X1:data.train.images.T, Y1:data.train.labels.T}))\n",
    "print(\"testing accuracy : \",session.run(accuracy, feed_dict={X1:data.test.images.T, Y1:data.test.labels.T}))"
   ]
  },
  {
   "cell_type": "code",
   "execution_count": null,
   "metadata": {},
   "outputs": [],
   "source": [
    "print(\"hh1\")"
   ]
  },
  {
   "cell_type": "code",
   "execution_count": null,
   "metadata": {},
   "outputs": [],
   "source": []
  },
  {
   "cell_type": "code",
   "execution_count": null,
   "metadata": {},
   "outputs": [],
   "source": []
  },
  {
   "cell_type": "code",
   "execution_count": null,
   "metadata": {},
   "outputs": [],
   "source": []
  },
  {
   "cell_type": "code",
   "execution_count": null,
   "metadata": {},
   "outputs": [],
   "source": []
  },
  {
   "cell_type": "code",
   "execution_count": null,
   "metadata": {},
   "outputs": [],
   "source": []
  },
  {
   "cell_type": "code",
   "execution_count": null,
   "metadata": {},
   "outputs": [],
   "source": []
  },
  {
   "cell_type": "code",
   "execution_count": null,
   "metadata": {},
   "outputs": [],
   "source": []
  },
  {
   "cell_type": "code",
   "execution_count": null,
   "metadata": {},
   "outputs": [],
   "source": []
  },
  {
   "cell_type": "code",
   "execution_count": null,
   "metadata": {},
   "outputs": [],
   "source": []
  }
 ],
 "metadata": {
  "kernelspec": {
   "display_name": "Python 3",
   "language": "python",
   "name": "python3"
  },
  "language_info": {
   "codemirror_mode": {
    "name": "ipython",
    "version": 3
   },
   "file_extension": ".py",
   "mimetype": "text/x-python",
   "name": "python",
   "nbconvert_exporter": "python",
   "pygments_lexer": "ipython3",
   "version": "3.5.2"
  }
 },
 "nbformat": 4,
 "nbformat_minor": 2
}
